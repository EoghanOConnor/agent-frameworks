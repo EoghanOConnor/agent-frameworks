{
 "cells": [
  {
   "cell_type": "markdown",
   "metadata": {},
   "source": [
    "# Analysis of the Max params"
   ]
  },
  {
   "cell_type": "code",
   "execution_count": 2,
   "metadata": {},
   "outputs": [],
   "source": [
    "import sys\n",
    "import os\n",
    "module_path = os.path.abspath(os.path.join('..','..'))\n",
    "if module_path not in sys.path:\n",
    "    sys.path.append(module_path)\n",
    "from experiments.tools import GenerateParam, ArbitraryClientTool\n",
    "from experiments.max_params_per_tool.max_params_per_tool import *"
   ]
  },
  {
   "cell_type": "code",
   "execution_count": 3,
   "metadata": {},
   "outputs": [
    {
     "name": "stdout",
     "output_type": "stream",
     "text": [
      "Parameter 1: name temperature, type:float, description:The temperature of the environment.\n",
      "Parameter 2: name humidity, type:int, description:The humidity level of the air.\n",
      "Parameter 3: name pressure, type:bool, description:Whether the pressure is high or low.\n",
      "Parameter 4: name altitude, type:str, description:The altitude of the location.\n",
      "Parameter 5: name speed, type:float, description:The speed of the object.\n",
      "Parameter 6: name location, type:str, description:The location of the object.\n",
      "Parameter 7: name time, type:int, description:The time of day.\n",
      "Parameter 8: name direction, type:str, description:The direction of travel.\n",
      "Parameter 9: name distance, type:float, description:The distance traveled.\n",
      "Parameter 10: name speed_limit, type:int, description:The speed limit of the road.\n",
      "Parameter 11: name fuel_level, type:float, description:The fuel level of the vehicle.\n",
      "Parameter 12: name fuel_efficiency, type:float, description:The fuel efficiency of the vehicle.\n",
      "Parameter 13: name engine_size, type:int, description:The size of the engine.\n",
      "Parameter 14: name horsepower, type:int, description:The horsepower of the engine.\n",
      "Parameter 15: name torque, type:float, description:The torque of the engine.\n",
      "Parameter 16: name transmission_type, type:str, description:The type of transmission.\n",
      "Parameter 17: name gear_ratio, type:float, description:The gear ratio of the transmission.\n",
      "Parameter 18: name brake_type, type:str, description:The type of brake system.\n",
      "Parameter 19: name suspension_type, type:str, description:The type of suspension system.\n",
      "Parameter 20: name steering_type, type:str, description:The type of steering system.\n",
      "Parameter 21: name seat_type, type:str, description:The type of seat.\n",
      "Parameter 22: name airbag_type, type:str, description:The type of airbag system.\n",
      "Parameter 23: name anti_lock_brake_system, type:str, description:The type of anti-lock brake system.\n",
      "Parameter 24: name electronic_stability_control, type:str, description:The type of electronic stability control system.\n",
      "Parameter 25: name lane_departure_warning, type:str, description:The type of lane departure warning system.\n",
      "Parameter 26: name adaptive_cruise_control, type:str, description:The type of adaptive cruise control system.\n",
      "Parameter 27: name blind_spot_monitor, type:str, description:The type of blind spot monitor system.\n",
      "Parameter 28: name rear_view_camera, type:str, description:The type of rear view camera system.\n",
      "Parameter 29: name parking_sensors, type:str, description:The type of parking sensors system.\n",
      "Parameter 30: name keyless_entry, type:str, description:The type of keyless entry system.\n",
      "Parameter 31: name push_start_button, type:str, description:The type of push start button system.\n",
      "Parameter 32: name remote_start, type:str, description:The type of remote start system.\n",
      "Parameter 33: name smartphone_app, type:str, description:The type of smartphone app system.\n",
      "Parameter 34: name voice_command, type:str, description:The type of voice command system.\n",
      "Parameter 35: name navigation_system, type:str, description:The type of navigation system.\n",
      "Parameter already exists\n",
      "Parameter already exists\n",
      "Parameter already exists\n",
      "Parameter already exists\n",
      "Parameter already exists\n",
      "Parameter 41: name automatic_emergency_braking, type:str, description:The type of automatic emergency braking system.\n",
      "Parameter 42: name lane_centering, type:str, description:The type of lane centering system.\n",
      "Parameter 43: name traffic_sign_recognition, type:str, description:The type of traffic sign recognition system.\n",
      "Parameter 44: name driver_monitoring, type:str, description:The type of driver monitoring system.\n",
      "Parameter 45: name parking_sonar, type:str, description:The type of parking sonar system.\n",
      "Parameter 46: name 360_degree_camera, type:str, description:The type of 360 degree camera system.\n",
      "Parameter already exists\n",
      "Parameter 48: name blind_spot_monitoring, type:str, description:The type of blind spot monitoring system.\n",
      "Parameter already exists\n",
      "Parameter already exists\n"
     ]
    }
   ],
   "source": [
    "get_params = get_params(50)"
   ]
  },
  {
   "cell_type": "code",
   "execution_count": 4,
   "metadata": {},
   "outputs": [
    {
     "name": "stdout",
     "output_type": "stream",
     "text": [
      "Starting test: ['temperature', 'humidity', 'pressure', 'altitude', 'speed', 'location', 'time', 'direction', 'distance', 'speed_limit', 'fuel_level', 'fuel_efficiency', 'engine_size', 'horsepower', 'torque', 'transmission_type', 'gear_ratio', 'brake_type', 'suspension_type', 'steering_type', 'seat_type', 'airbag_type', 'anti_lock_brake_system', 'electronic_stability_control', 'lane_departure_warning', 'adaptive_cruise_control', 'blind_spot_monitor', 'rear_view_camera', 'parking_sensors', 'keyless_entry', 'push_start_button', 'remote_start', 'smartphone_app', 'voice_command', 'navigation_system', 'automatic_emergency_braking', 'lane_centering', 'traffic_sign_recognition', 'driver_monitoring', 'parking_sonar', '360_degree_camera', 'blind_spot_monitoring']\n"
     ]
    }
   ],
   "source": [
    "print(f\"Starting test: {get_params['name']}\")"
   ]
  },
  {
   "cell_type": "code",
   "execution_count": 5,
   "metadata": {},
   "outputs": [
    {
     "name": "stdout",
     "output_type": "stream",
     "text": [
      "Data cleaned (duplicates removed): \n",
      "\n",
      "name ['temperature', 'humidity', 'pressure', 'altitude', 'speed', 'location', 'time', 'direction', 'distance', 'speed_limit', 'fuel_level', 'fuel_efficiency', 'engine_size', 'horsepower', 'torque', 'transmission_type', 'gear_ratio', 'brake_type', 'suspension_type', 'steering_type', 'seat_type', 'airbag_type', 'anti_lock_brake_system', 'electronic_stability_control', 'lane_departure_warning', 'adaptive_cruise_control', 'blind_spot_monitor', 'rear_view_camera', 'parking_sensors', 'keyless_entry', 'push_start_button', 'remote_start', 'smartphone_app', 'voice_command', 'navigation_system', 'automatic_emergency_braking', 'lane_centering', 'traffic_sign_recognition', 'driver_monitoring', 'parking_sonar', '360_degree_camera', 'blind_spot_monitoring']\n",
      "type ['float', 'int', 'bool', 'str', 'float', 'str', 'int', 'str', 'float', 'int', 'float', 'float', 'int', 'int', 'float', 'str', 'float', 'str', 'str', 'str', 'str', 'str', 'str', 'str', 'str', 'str', 'str', 'str', 'str', 'str', 'str', 'str', 'str', 'str', 'str', 'str', 'str', 'str', 'str', 'str', 'str', 'str']\n",
      "description ['The temperature of the environment.', 'The humidity level of the air.', 'Whether the pressure is high or low.', 'The altitude of the location.', 'The speed of the object.', 'The location of the object.', 'The time of day.', 'The direction of travel.', 'The distance traveled.', 'The speed limit of the road.', 'The fuel level of the vehicle.', 'The fuel efficiency of the vehicle.', 'The size of the engine.', 'The horsepower of the engine.', 'The torque of the engine.', 'The type of transmission.', 'The gear ratio of the transmission.', 'The type of brake system.', 'The type of suspension system.', 'The type of steering system.', 'The type of seat.', 'The type of airbag system.', 'The type of anti-lock brake system.', 'The type of electronic stability control system.', 'The type of lane departure warning system.', 'The type of adaptive cruise control system.', 'The type of blind spot monitor system.', 'The type of rear view camera system.', 'The type of parking sensors system.', 'The type of keyless entry system.', 'The type of push start button system.', 'The type of remote start system.', 'The type of smartphone app system.', 'The type of voice command system.', 'The type of navigation system.', 'The type of automatic emergency braking system.', 'The type of lane centering system.', 'The type of traffic sign recognition system.', 'The type of driver monitoring system.', 'The type of parking sonar system.', 'The type of 360 degree camera system.', 'The type of blind spot monitoring system.']\n"
     ]
    }
   ],
   "source": [
    "\n",
    "\n",
    "# To track seen names and their indices\n",
    "seen_names = set()\n",
    "indices_to_remove = []\n",
    "\n",
    "# Iterate over the 'name' list\n",
    "for i in range(len(get_params['name'])):\n",
    "    if get_params['name'][i] in seen_names:\n",
    "        # Mark the index for removal if name is duplicated\n",
    "        print(f\"Duplicate name found: {get_params['name'][i]}\")\n",
    "        indices_to_remove.append(i)\n",
    "    else:\n",
    "        # Otherwise, add to the set of seen names\n",
    "        seen_names.add(get_params['name'][i])\n",
    "\n",
    "# Remove the entries that have duplicates in 'name'\n",
    "get_params['name'] = [get_params['name'][i] for i in range(len(get_params['name'])) if i not in indices_to_remove]\n",
    "get_params['type'] = [get_params['type'][i] for i in range(len(get_params['type'])) if i not in indices_to_remove]\n",
    "get_params['description'] = [get_params['description'][i] for i in range(len(get_params['description'])) if i not in indices_to_remove]\n",
    "\n",
    "# Output the cleaned get_params\n",
    "print(\"Data cleaned (duplicates removed): \\n\")\n",
    "for param in get_params:\n",
    "    print(param, get_params[param])\n"
   ]
  },
  {
   "cell_type": "code",
   "execution_count": 6,
   "metadata": {},
   "outputs": [
    {
     "name": "stdout",
     "output_type": "stream",
     "text": [
      "42\n"
     ]
    }
   ],
   "source": [
    "print(len(get_params['name']))"
   ]
  },
  {
   "cell_type": "code",
   "execution_count": 8,
   "metadata": {},
   "outputs": [
    {
     "name": "stderr",
     "output_type": "stream",
     "text": [
      "`agent_config` is deprecated. Use inlined parameters instead.\n",
      "`client_tools` is deprecated. Use `tools` instead.\n"
     ]
    },
    {
     "name": "stdout",
     "output_type": "stream",
     "text": [
      "1\n"
     ]
    },
    {
     "name": "stderr",
     "output_type": "stream",
     "text": [
      "`agent_config` is deprecated. Use inlined parameters instead.\n",
      "`client_tools` is deprecated. Use `tools` instead.\n"
     ]
    },
    {
     "name": "stdout",
     "output_type": "stream",
     "text": [
      "Parameter checks completed.\n",
      "2\n"
     ]
    },
    {
     "name": "stderr",
     "output_type": "stream",
     "text": [
      "`agent_config` is deprecated. Use inlined parameters instead.\n",
      "`client_tools` is deprecated. Use `tools` instead.\n"
     ]
    },
    {
     "name": "stdout",
     "output_type": "stream",
     "text": [
      "Parameter checks completed.\n",
      "3\n"
     ]
    },
    {
     "name": "stderr",
     "output_type": "stream",
     "text": [
      "`agent_config` is deprecated. Use inlined parameters instead.\n",
      "`client_tools` is deprecated. Use `tools` instead.\n"
     ]
    },
    {
     "name": "stdout",
     "output_type": "stream",
     "text": [
      "Parameter checks completed.\n",
      "4\n"
     ]
    },
    {
     "name": "stderr",
     "output_type": "stream",
     "text": [
      "`agent_config` is deprecated. Use inlined parameters instead.\n",
      "`client_tools` is deprecated. Use `tools` instead.\n"
     ]
    },
    {
     "name": "stdout",
     "output_type": "stream",
     "text": [
      "Parameter 'horsepower' has an invalid type. Expected 'int', but got 'str'.\n",
      "Parameter checks completed.\n",
      "5\n"
     ]
    },
    {
     "name": "stderr",
     "output_type": "stream",
     "text": [
      "`agent_config` is deprecated. Use inlined parameters instead.\n",
      "`client_tools` is deprecated. Use `tools` instead.\n"
     ]
    },
    {
     "name": "stdout",
     "output_type": "stream",
     "text": [
      "Parameter checks completed.\n",
      "6\n"
     ]
    },
    {
     "name": "stderr",
     "output_type": "stream",
     "text": [
      "`agent_config` is deprecated. Use inlined parameters instead.\n",
      "`client_tools` is deprecated. Use `tools` instead.\n"
     ]
    },
    {
     "name": "stdout",
     "output_type": "stream",
     "text": [
      "Parameter 'gear_ratio' has an invalid type. Expected 'float', but got 'str'.\n",
      "Parameter 'distance' has an invalid type. Expected 'float', but got 'str'.\n",
      "Parameter checks completed.\n",
      "7\n"
     ]
    },
    {
     "name": "stderr",
     "output_type": "stream",
     "text": [
      "`agent_config` is deprecated. Use inlined parameters instead.\n",
      "`client_tools` is deprecated. Use `tools` instead.\n"
     ]
    },
    {
     "name": "stdout",
     "output_type": "stream",
     "text": [
      "Parameter 'speed_limit' has an invalid type. Expected 'int', but got 'float'.\n",
      "Parameter checks completed.\n",
      "8\n"
     ]
    },
    {
     "name": "stderr",
     "output_type": "stream",
     "text": [
      "`agent_config` is deprecated. Use inlined parameters instead.\n",
      "`client_tools` is deprecated. Use `tools` instead.\n"
     ]
    },
    {
     "name": "stdout",
     "output_type": "stream",
     "text": [
      "Parameter 'engine_size' has an invalid type. Expected 'int', but got 'float'.\n",
      "Parameter 'humidity' has an invalid type. Expected 'int', but got 'float'.\n",
      "Parameter checks completed.\n",
      "9\n"
     ]
    },
    {
     "name": "stderr",
     "output_type": "stream",
     "text": [
      "`agent_config` is deprecated. Use inlined parameters instead.\n",
      "`client_tools` is deprecated. Use `tools` instead.\n"
     ]
    },
    {
     "name": "stdout",
     "output_type": "stream",
     "text": [
      "Parameter 'temperature' has an invalid type. Expected 'float', but got 'str'.\n",
      "Parameter 'speed_limit' has an invalid type. Expected 'int', but got 'str'.\n",
      "Parameter 'horsepower' has an invalid type. Expected 'int', but got 'str'.\n",
      "Parameter checks completed.\n",
      "10\n"
     ]
    },
    {
     "name": "stderr",
     "output_type": "stream",
     "text": [
      "`agent_config` is deprecated. Use inlined parameters instead.\n",
      "`client_tools` is deprecated. Use `tools` instead.\n"
     ]
    },
    {
     "name": "stdout",
     "output_type": "stream",
     "text": [
      "Parameter 'time' has an invalid type. Expected 'int', but got 'float'.\n",
      "Parameter checks completed.\n",
      "11\n"
     ]
    },
    {
     "name": "stderr",
     "output_type": "stream",
     "text": [
      "`agent_config` is deprecated. Use inlined parameters instead.\n",
      "`client_tools` is deprecated. Use `tools` instead.\n"
     ]
    },
    {
     "name": "stdout",
     "output_type": "stream",
     "text": [
      "Parameter 'time' has an invalid type. Expected 'int', but got 'float'.\n",
      "Parameter checks completed.\n",
      "12\n"
     ]
    },
    {
     "name": "stderr",
     "output_type": "stream",
     "text": [
      "`agent_config` is deprecated. Use inlined parameters instead.\n",
      "`client_tools` is deprecated. Use `tools` instead.\n"
     ]
    },
    {
     "name": "stdout",
     "output_type": "stream",
     "text": [
      "Parameter 'time' has an invalid type. Expected 'int', but got 'float'.\n",
      "Parameter 'humidity' has an invalid type. Expected 'int', but got 'float'.\n",
      "Parameter checks completed.\n",
      "13\n"
     ]
    },
    {
     "name": "stderr",
     "output_type": "stream",
     "text": [
      "`agent_config` is deprecated. Use inlined parameters instead.\n",
      "`client_tools` is deprecated. Use `tools` instead.\n"
     ]
    },
    {
     "name": "stdout",
     "output_type": "stream",
     "text": [
      "Parameter 'engine_size' has an invalid type. Expected 'int', but got 'float'.\n",
      "Parameter 'speed_limit' has an invalid type. Expected 'int', but got 'float'.\n",
      "Parameter checks completed.\n",
      "14\n"
     ]
    },
    {
     "name": "stderr",
     "output_type": "stream",
     "text": [
      "`agent_config` is deprecated. Use inlined parameters instead.\n",
      "`client_tools` is deprecated. Use `tools` instead.\n"
     ]
    },
    {
     "name": "stdout",
     "output_type": "stream",
     "text": [
      "Parameter 'horsepower' has an invalid type. Expected 'int', but got 'float'.\n",
      "Parameter 'time' has an invalid type. Expected 'int', but got 'float'.\n",
      "Parameter checks completed.\n",
      "15\n"
     ]
    },
    {
     "name": "stderr",
     "output_type": "stream",
     "text": [
      "`agent_config` is deprecated. Use inlined parameters instead.\n",
      "`client_tools` is deprecated. Use `tools` instead.\n"
     ]
    },
    {
     "name": "stdout",
     "output_type": "stream",
     "text": [
      "Parameter 'humidity' has an invalid type. Expected 'int', but got 'float'.\n",
      "Parameter 'speed_limit' has an invalid type. Expected 'int', but got 'float'.\n",
      "Parameter checks completed.\n",
      "16\n"
     ]
    },
    {
     "name": "stderr",
     "output_type": "stream",
     "text": [
      "`agent_config` is deprecated. Use inlined parameters instead.\n",
      "`client_tools` is deprecated. Use `tools` instead.\n"
     ]
    },
    {
     "name": "stdout",
     "output_type": "stream",
     "text": [
      "Parameter 'humidity' has an invalid type. Expected 'int', but got 'float'.\n",
      "Parameter 'engine_size' has an invalid type. Expected 'int', but got 'float'.\n",
      "Parameter checks completed.\n",
      "17\n"
     ]
    },
    {
     "name": "stderr",
     "output_type": "stream",
     "text": [
      "`agent_config` is deprecated. Use inlined parameters instead.\n",
      "`client_tools` is deprecated. Use `tools` instead.\n"
     ]
    },
    {
     "name": "stdout",
     "output_type": "stream",
     "text": [
      "Parameter 'horsepower' has an invalid type. Expected 'int', but got 'float'.\n",
      "Parameter 'humidity' has an invalid type. Expected 'int', but got 'float'.\n",
      "Parameter checks completed.\n",
      "18\n"
     ]
    },
    {
     "name": "stderr",
     "output_type": "stream",
     "text": [
      "`agent_config` is deprecated. Use inlined parameters instead.\n",
      "`client_tools` is deprecated. Use `tools` instead.\n"
     ]
    },
    {
     "name": "stdout",
     "output_type": "stream",
     "text": [
      "Parameter 'time' has an invalid type. Expected 'int', but got 'float'.\n",
      "Parameter checks completed.\n",
      "19\n"
     ]
    },
    {
     "name": "stderr",
     "output_type": "stream",
     "text": [
      "`agent_config` is deprecated. Use inlined parameters instead.\n",
      "`client_tools` is deprecated. Use `tools` instead.\n"
     ]
    },
    {
     "name": "stdout",
     "output_type": "stream",
     "text": [
      "Parameter 'humidity' has an invalid type. Expected 'int', but got 'float'.\n",
      "Parameter 'time' has an invalid type. Expected 'int', but got 'float'.\n",
      "Parameter checks completed.\n",
      "20\n"
     ]
    },
    {
     "name": "stderr",
     "output_type": "stream",
     "text": [
      "`agent_config` is deprecated. Use inlined parameters instead.\n",
      "`client_tools` is deprecated. Use `tools` instead.\n"
     ]
    },
    {
     "name": "stdout",
     "output_type": "stream",
     "text": [
      "Parameter 'humidity' has an invalid type. Expected 'int', but got 'float'.\n",
      "Parameter 'speed_limit' has an invalid type. Expected 'int', but got 'float'.\n",
      "Parameter checks completed.\n",
      "21\n"
     ]
    },
    {
     "name": "stderr",
     "output_type": "stream",
     "text": [
      "`agent_config` is deprecated. Use inlined parameters instead.\n",
      "`client_tools` is deprecated. Use `tools` instead.\n"
     ]
    },
    {
     "name": "stdout",
     "output_type": "stream",
     "text": [
      "Parameter 'speed_limit' has an invalid type. Expected 'int', but got 'float'.\n",
      "Parameter 'horsepower' has an invalid type. Expected 'int', but got 'float'.\n",
      "Parameter 'humidity' has an invalid type. Expected 'int', but got 'float'.\n",
      "Parameter 'engine_size' has an invalid type. Expected 'int', but got 'float'.\n",
      "Parameter checks completed.\n",
      "22\n"
     ]
    },
    {
     "name": "stderr",
     "output_type": "stream",
     "text": [
      "`agent_config` is deprecated. Use inlined parameters instead.\n",
      "`client_tools` is deprecated. Use `tools` instead.\n"
     ]
    },
    {
     "name": "stdout",
     "output_type": "stream",
     "text": [
      "Parameter 'fuel_level' has an invalid type. Expected 'float', but got 'str'.\n",
      "Parameter 'speed_limit' has an invalid type. Expected 'int', but got 'str'.\n",
      "Parameter 'gear_ratio' has an invalid type. Expected 'float', but got 'str'.\n",
      "Parameter 'temperature' has an invalid type. Expected 'float', but got 'str'.\n",
      "Parameter 'torque' has an invalid type. Expected 'float', but got 'str'.\n",
      "Parameter 'distance' has an invalid type. Expected 'float', but got 'str'.\n",
      "Parameter 'horsepower' has an invalid type. Expected 'int', but got 'str'.\n",
      "Parameter 'pressure' has an invalid type. Expected 'bool', but got 'str'.\n",
      "Parameter checks completed.\n",
      "23\n"
     ]
    },
    {
     "name": "stderr",
     "output_type": "stream",
     "text": [
      "`agent_config` is deprecated. Use inlined parameters instead.\n",
      "`client_tools` is deprecated. Use `tools` instead.\n"
     ]
    },
    {
     "name": "stdout",
     "output_type": "stream",
     "text": [
      "Parameter 'horsepower' has an invalid type. Expected 'int', but got 'float'.\n",
      "Parameter 'engine_size' has an invalid type. Expected 'int', but got 'float'.\n",
      "Parameter 'time' has an invalid type. Expected 'int', but got 'float'.\n",
      "Parameter 'humidity' has an invalid type. Expected 'int', but got 'float'.\n",
      "Parameter checks completed.\n",
      "24\n"
     ]
    },
    {
     "name": "stderr",
     "output_type": "stream",
     "text": [
      "`agent_config` is deprecated. Use inlined parameters instead.\n",
      "`client_tools` is deprecated. Use `tools` instead.\n"
     ]
    },
    {
     "name": "stdout",
     "output_type": "stream",
     "text": [
      "Parameter 'horsepower' has an invalid type. Expected 'int', but got 'float'.\n",
      "Parameter 'engine_size' has an invalid type. Expected 'int', but got 'float'.\n",
      "Parameter checks completed.\n",
      "25\n"
     ]
    },
    {
     "name": "stderr",
     "output_type": "stream",
     "text": [
      "`agent_config` is deprecated. Use inlined parameters instead.\n",
      "`client_tools` is deprecated. Use `tools` instead.\n"
     ]
    },
    {
     "name": "stdout",
     "output_type": "stream",
     "text": [
      "Parameter 'humidity' has an invalid type. Expected 'int', but got 'float'.\n",
      "Parameter 'horsepower' has an invalid type. Expected 'int', but got 'float'.\n",
      "Parameter checks completed.\n",
      "26\n"
     ]
    },
    {
     "name": "stderr",
     "output_type": "stream",
     "text": [
      "`agent_config` is deprecated. Use inlined parameters instead.\n",
      "`client_tools` is deprecated. Use `tools` instead.\n"
     ]
    },
    {
     "name": "stdout",
     "output_type": "stream",
     "text": [
      "Parameter 'speed_limit' has an invalid type. Expected 'int', but got 'float'.\n",
      "Parameter 'time' has an invalid type. Expected 'int', but got 'float'.\n",
      "Parameter 'humidity' has an invalid type. Expected 'int', but got 'float'.\n",
      "Parameter checks completed.\n",
      "27\n"
     ]
    },
    {
     "name": "stderr",
     "output_type": "stream",
     "text": [
      "`agent_config` is deprecated. Use inlined parameters instead.\n",
      "`client_tools` is deprecated. Use `tools` instead.\n"
     ]
    },
    {
     "name": "stdout",
     "output_type": "stream",
     "text": [
      "Parameter 'time' has an invalid type. Expected 'int', but got 'str'.\n",
      "Parameter 'fuel_level' has an invalid type. Expected 'float', but got 'str'.\n",
      "Parameter 'torque' has an invalid type. Expected 'float', but got 'str'.\n",
      "Parameter 'temperature' has an invalid type. Expected 'float', but got 'str'.\n",
      "Parameter 'horsepower' has an invalid type. Expected 'int', but got 'str'.\n",
      "Parameter 'speed_limit' has an invalid type. Expected 'int', but got 'str'.\n",
      "Parameter checks completed.\n",
      "28\n"
     ]
    },
    {
     "name": "stderr",
     "output_type": "stream",
     "text": [
      "`agent_config` is deprecated. Use inlined parameters instead.\n",
      "`client_tools` is deprecated. Use `tools` instead.\n"
     ]
    },
    {
     "name": "stdout",
     "output_type": "stream",
     "text": [
      "Parameter 'engine_size' has an invalid type. Expected 'int', but got 'float'.\n",
      "Parameter 'horsepower' has an invalid type. Expected 'int', but got 'float'.\n",
      "Parameter checks completed.\n",
      "29\n"
     ]
    },
    {
     "name": "stderr",
     "output_type": "stream",
     "text": [
      "`agent_config` is deprecated. Use inlined parameters instead.\n",
      "`client_tools` is deprecated. Use `tools` instead.\n"
     ]
    },
    {
     "name": "stdout",
     "output_type": "stream",
     "text": [
      "Parameter 'time' has an invalid type. Expected 'int', but got 'float'.\n",
      "Parameter 'engine_size' has an invalid type. Expected 'int', but got 'float'.\n",
      "Parameter checks completed.\n",
      "30\n"
     ]
    },
    {
     "name": "stderr",
     "output_type": "stream",
     "text": [
      "`agent_config` is deprecated. Use inlined parameters instead.\n",
      "`client_tools` is deprecated. Use `tools` instead.\n"
     ]
    },
    {
     "name": "stdout",
     "output_type": "stream",
     "text": [
      "Parameter 'engine_size' has an invalid type. Expected 'int', but got 'float'.\n",
      "Parameter 'humidity' has an invalid type. Expected 'int', but got 'float'.\n",
      "Parameter 'time' has an invalid type. Expected 'int', but got 'float'.\n",
      "Parameter 'speed_limit' has an invalid type. Expected 'int', but got 'float'.\n",
      "Parameter 'horsepower' has an invalid type. Expected 'int', but got 'float'.\n",
      "Parameter checks completed.\n",
      "31\n"
     ]
    },
    {
     "name": "stderr",
     "output_type": "stream",
     "text": [
      "`agent_config` is deprecated. Use inlined parameters instead.\n",
      "`client_tools` is deprecated. Use `tools` instead.\n"
     ]
    },
    {
     "name": "stdout",
     "output_type": "stream",
     "text": [
      "Parameter 'speed_limit' has an invalid type. Expected 'int', but got 'float'.\n",
      "Parameter 'time' has an invalid type. Expected 'int', but got 'float'.\n",
      "Parameter checks completed.\n",
      "32\n"
     ]
    },
    {
     "name": "stderr",
     "output_type": "stream",
     "text": [
      "`agent_config` is deprecated. Use inlined parameters instead.\n",
      "`client_tools` is deprecated. Use `tools` instead.\n"
     ]
    },
    {
     "name": "stdout",
     "output_type": "stream",
     "text": [
      "Parameter 'horsepower' has an invalid type. Expected 'int', but got 'float'.\n",
      "Parameter 'time' has an invalid type. Expected 'int', but got 'float'.\n",
      "Parameter 'engine_size' has an invalid type. Expected 'int', but got 'float'.\n",
      "Parameter 'speed_limit' has an invalid type. Expected 'int', but got 'float'.\n",
      "Parameter checks completed.\n",
      "33\n"
     ]
    },
    {
     "name": "stderr",
     "output_type": "stream",
     "text": [
      "`agent_config` is deprecated. Use inlined parameters instead.\n",
      "`client_tools` is deprecated. Use `tools` instead.\n"
     ]
    },
    {
     "name": "stdout",
     "output_type": "stream",
     "text": [
      "Parameter 'engine_size' has an invalid type. Expected 'int', but got 'float'.\n",
      "Parameter 'time' has an invalid type. Expected 'int', but got 'float'.\n",
      "Parameter 'horsepower' has an invalid type. Expected 'int', but got 'float'.\n",
      "Parameter 'speed_limit' has an invalid type. Expected 'int', but got 'float'.\n",
      "Parameter checks completed.\n",
      "34\n"
     ]
    },
    {
     "name": "stderr",
     "output_type": "stream",
     "text": [
      "`agent_config` is deprecated. Use inlined parameters instead.\n",
      "`client_tools` is deprecated. Use `tools` instead.\n"
     ]
    },
    {
     "name": "stdout",
     "output_type": "stream",
     "text": [
      "Parameter 'speed_limit' has an invalid type. Expected 'int', but got 'float'.\n",
      "Parameter 'engine_size' has an invalid type. Expected 'int', but got 'float'.\n",
      "Parameter 'humidity' has an invalid type. Expected 'int', but got 'float'.\n",
      "Parameter 'horsepower' has an invalid type. Expected 'int', but got 'float'.\n",
      "Parameter 'time' has an invalid type. Expected 'int', but got 'float'.\n",
      "Parameter checks completed.\n",
      "35\n"
     ]
    },
    {
     "name": "stderr",
     "output_type": "stream",
     "text": [
      "`agent_config` is deprecated. Use inlined parameters instead.\n",
      "`client_tools` is deprecated. Use `tools` instead.\n"
     ]
    },
    {
     "name": "stdout",
     "output_type": "stream",
     "text": [
      "Parameter 'time' has an invalid type. Expected 'int', but got 'float'.\n",
      "Parameter 'engine_size' has an invalid type. Expected 'int', but got 'float'.\n",
      "Parameter 'humidity' has an invalid type. Expected 'int', but got 'float'.\n",
      "Parameter 'speed_limit' has an invalid type. Expected 'int', but got 'float'.\n",
      "Parameter checks completed.\n",
      "36\n"
     ]
    },
    {
     "name": "stderr",
     "output_type": "stream",
     "text": [
      "`agent_config` is deprecated. Use inlined parameters instead.\n",
      "`client_tools` is deprecated. Use `tools` instead.\n"
     ]
    },
    {
     "name": "stdout",
     "output_type": "stream",
     "text": [
      "Parameter 'horsepower' has an invalid type. Expected 'int', but got 'float'.\n",
      "Parameter 'speed_limit' has an invalid type. Expected 'int', but got 'float'.\n",
      "Parameter 'engine_size' has an invalid type. Expected 'int', but got 'float'.\n",
      "Parameter 'humidity' has an invalid type. Expected 'int', but got 'float'.\n",
      "Parameter checks completed.\n",
      "37\n"
     ]
    },
    {
     "name": "stderr",
     "output_type": "stream",
     "text": [
      "`agent_config` is deprecated. Use inlined parameters instead.\n",
      "`client_tools` is deprecated. Use `tools` instead.\n"
     ]
    },
    {
     "name": "stdout",
     "output_type": "stream",
     "text": [
      "Parameter 'horsepower' has an invalid type. Expected 'int', but got 'float'.\n",
      "Parameter 'humidity' has an invalid type. Expected 'int', but got 'float'.\n",
      "Parameter 'engine_size' has an invalid type. Expected 'int', but got 'float'.\n",
      "Parameter 'time' has an invalid type. Expected 'int', but got 'float'.\n",
      "Parameter 'speed_limit' has an invalid type. Expected 'int', but got 'float'.\n",
      "Parameter checks completed.\n",
      "38\n"
     ]
    },
    {
     "name": "stderr",
     "output_type": "stream",
     "text": [
      "`agent_config` is deprecated. Use inlined parameters instead.\n",
      "`client_tools` is deprecated. Use `tools` instead.\n"
     ]
    },
    {
     "name": "stdout",
     "output_type": "stream",
     "text": [
      "Parameter 'speed_limit' has an invalid type. Expected 'int', but got 'float'.\n",
      "Parameter 'horsepower' has an invalid type. Expected 'int', but got 'float'.\n",
      "Parameter 'engine_size' has an invalid type. Expected 'int', but got 'float'.\n",
      "Parameter 'humidity' has an invalid type. Expected 'int', but got 'float'.\n",
      "Parameter 'time' has an invalid type. Expected 'int', but got 'float'.\n",
      "Parameter checks completed.\n",
      "39\n",
      "Parameter 'horsepower' has an invalid type. Expected 'int', but got 'float'.\n",
      "Parameter 'speed_limit' has an invalid type. Expected 'int', but got 'float'.\n",
      "Parameter 'engine_size' has an invalid type. Expected 'int', but got 'float'.\n",
      "Parameter 'humidity' has an invalid type. Expected 'int', but got 'float'.\n",
      "Parameter 'time' has an invalid type. Expected 'int', but got 'float'.\n",
      "Parameter checks completed.\n"
     ]
    }
   ],
   "source": [
    "import random\n",
    "retry = False\n",
    "acc_dict  = {}\n",
    "for i in range(1, 40):\n",
    "    error_count = 0\n",
    "    # Get random indices from the range of the sliced lists\n",
    "    random_indices = random.sample(range(len(get_params['name'])), i)\n",
    "    if retry:\n",
    "        i = i - 1\n",
    "    # Select the corresponding names, types, and descriptions using the random indices\n",
    "    selected_params = {\n",
    "        'name': [get_params['name'][idx] for idx in random_indices],\n",
    "        'type': [get_params['type'][idx] for idx in random_indices],\n",
    "        'description': [get_params['description'][idx] for idx in random_indices]\n",
    "    }\n",
    "    print(len(selected_params['name']))\n",
    "    response = test_abitrary_client_tool(selected_params)\n",
    "    steps = response.steps\n",
    "    # for step in steps:\n",
    "    #     print(step)\n",
    "    try:\n",
    "        params_used = steps[1].tool_calls[0].arguments\n",
    "\n",
    "        for param_name, param_value in params_used.items():\n",
    "            index = selected_params['name'].index(param_name)\n",
    "            expected_type = selected_params['type'][index]\n",
    "            \n",
    "            # Check if the type matches the expected type\n",
    "            if not isinstance(param_value, eval(expected_type)):\n",
    "                print(f\"Parameter '{param_name}' has an invalid type. Expected '{expected_type}', but got '{type(param_value).__name__}'.\")\n",
    "                error_count += 1\n",
    "        acc_dict[i] = error_count\n",
    "        retry = False    \n",
    "    except:\n",
    "        print(\"Error with the tool\")\n",
    "        retry = True\n",
    "        continue\n",
    "    print(\"Parameter checks completed.\")"
   ]
  },
  {
   "cell_type": "code",
   "execution_count": 9,
   "metadata": {},
   "outputs": [
    {
     "data": {
      "image/png": "[encoded data removed]",
      "text/plain": [
       "<Figure size 800x500 with 1 Axes>"
      ]
     },
     "metadata": {},
     "output_type": "display_data"
    }
   ],
   "source": [
    "import matplotlib.pyplot as plt\n",
    "\n",
    "# Example dictionary with numerical keys and values\n",
    "\n",
    "# Extract keys and values\n",
    "keys = list(acc_dict.keys())\n",
    "values = list(acc_dict.values())\n",
    "\n",
    "# Create a plot\n",
    "plt.figure(figsize=(8, 5))\n",
    "\n",
    "# Plot the values\n",
    "plt.plot(keys, values, marker='o', linestyle='-', color='b', label='Values')\n",
    "\n",
    "# Label the axes\n",
    "plt.xlabel('Number of total parameters')\n",
    "plt.ylabel('Number of Hallucinated Parameters')\n",
    "\n",
    "# Add a title to the plot\n",
    "plt.title('Number of Halluncinated Parameters')\n",
    "\n",
    "# Optionally, add gridlines for better visibility\n",
    "plt.grid(True)\n",
    "\n",
    "# Show the plot\n",
    "plt.legend()\n",
    "plt.show()\n"
   ]
  },
  {
   "cell_type": "code",
   "execution_count": 10,
   "metadata": {},
   "outputs": [
    {
     "data": {
      "image/png": "[encoded data removed]",
      "text/plain": [
       "<Figure size 800x500 with 1 Axes>"
      ]
     },
     "metadata": {},
     "output_type": "display_data"
    }
   ],
   "source": [
    "\n",
    "import numpy as np\n",
    "\n",
    "# Compute error rate (errors/params)\n",
    "error_rate = {key: value / key for key, value in acc_dict.items()}\n",
    "\n",
    "# Extract keys (total params) and values (error rates)\n",
    "keys = list(error_rate.keys())\n",
    "values = list(error_rate.values())\n",
    "\n",
    "# Create a plot\n",
    "plt.figure(figsize=(8, 5))\n",
    "\n",
    "# Plot the error rates\n",
    "plt.plot(keys, values, marker='o', linestyle='-', color='r', label='Error Rate')\n",
    "\n",
    "# Label the axes\n",
    "plt.xlabel('Total Number of Parameters (X-axis)')\n",
    "plt.ylabel('Error Rate (Y-axis)')\n",
    "\n",
    "# Add a title to the plot\n",
    "plt.title('Error Rate vs. Total Number of Parameters')\n",
    "\n",
    "# Optionally, add gridlines for better visibility\n",
    "plt.grid(True)\n",
    "\n",
    "# Show the plot\n",
    "plt.legend()\n",
    "plt.show()\n"
   ]
  },
  {
   "cell_type": "code",
   "execution_count": null,
   "metadata": {},
   "outputs": [
    {
     "name": "stdout",
     "output_type": "stream",
     "text": [
      "Data has been written to experiment_logs/max_params_single_call/ollama_3_2_3B_temp_0_dot_5_.csv\n"
     ]
    }
   ],
   "source": [
    "import os\n",
    "import csv\n",
    "\n",
    "## Combine error_rate and acc_dict into a list of rows\n",
    "combined_data = []\n",
    "for key in error_rate:\n",
    "    if key in acc_dict:  # Check if key is in both dictionaries\n",
    "        combined_data.append([key, error_rate[key], acc_dict[key]])\n",
    "\n",
    "# Define the file path\n",
    "file_path = 'experiment_logs/max_params_single_call/ollama_3_2_3B_temp.csv'\n",
    "\n",
    "# Ensure the directory exists, create if it doesn't\n",
    "os.makedirs(os.path.dirname(file_path), exist_ok=True)\n",
    "\n",
    "# Write to CSV file with explicit delimiter (comma)\n",
    "with open(file_path, mode='w', newline='', encoding='utf-8') as file:\n",
    "    writer = csv.writer(file, delimiter=',')  # Ensure comma is the delimiter\n",
    "    # Write the header for table\n",
    "    writer.writerow([\"number_params\", \"error_rate\", \"incorrect_inputs\"])\n",
    "    # Write the data rows (this will form the table)\n",
    "    writer.writerows(combined_data)\n",
    "\n",
    "print(f\"Data has been written to {file_path}\")\n"
   ]
  }
 ],
 "metadata": {
  "kernelspec": {
   "display_name": "base",
   "language": "python",
   "name": "python3"
  },
  "language_info": {
   "codemirror_mode": {
    "name": "ipython",
    "version": 3
   },
   "file_extension": ".py",
   "mimetype": "text/x-python",
   "name": "python",
   "nbconvert_exporter": "python",
   "pygments_lexer": "ipython3",
   "version": "3.10.16"
  }
 },
 "nbformat": 4,
 "nbformat_minor": 2
}
